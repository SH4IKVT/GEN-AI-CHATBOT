{
 "cells": [
  {
   "cell_type": "code",
   "execution_count": 4,
   "id": "715cccd6",
   "metadata": {},
   "outputs": [
    {
     "name": "stdout",
     "output_type": "stream",
     "text": [
      "Have you ever been wondering what part of speech the articles belong to? Do you think they are pronouns, adverbs or adjectives? Well, this article will help you with all that you need to know. Learn what articles are, their definition, types, how to use them, and uses, along with examples. Also, try out the practice questions given to check how far you have understood the same. Table of Contents What is an Article? Definition of an Article Types of Articles in English Definite Article Indefinite Article Usage and Exceptions – Points to be Remembered When Using Articles Examples of Articles Check Your Understanding of Articles Frequently Asked Questions on Articles in English Grammar What is an Article? An article is a short monosyllabic word that is used to define if the noun is specific or not. Articles are normally used before nouns and since they are used to speak about the noun, they can be considered as adjectives. Look at how various dictionaries define an article to have a much \n"
     ]
    }
   ],
   "source": [
    "from selenium import webdriver\n",
    "from selenium.webdriver.chrome.options import Options\n",
    "from bs4 import BeautifulSoup\n",
    "import time\n",
    "import re # Import the re module here\n",
    "import tempfile # Import tempfile\n",
    "\n",
    "def scrape_dynamic_site(url):\n",
    "    options = Options()\n",
    "    options.add_argument(\"--headless\")  # Run in background\n",
    "    options.add_argument(\"--no-sandbox\") # Add no-sandbox argument\n",
    "    options.add_argument(\"--disable-dev-shm-usage\") # Add disable-dev-shm-usage argument\n",
    "\n",
    "    # Create a temporary directory for user data\n",
    "    user_data_dir = tempfile.mkdtemp()\n",
    "    options.add_argument(f\"--user-data-dir={user_data_dir}\")\n",
    "\n",
    "\n",
    "    driver = webdriver.Chrome(options=options)\n",
    "    driver.get(url)\n",
    "\n",
    "    time.sleep(3)  # Wait for JS to load\n",
    "    html = driver.page_source\n",
    "    soup = BeautifulSoup(html, 'html.parser')\n",
    "    driver.quit()\n",
    "\n",
    "    text = soup.get_text()\n",
    "    text = re.sub(r'\\s+', ' ', text)\n",
    "    return text.strip()\n",
    "\n",
    "# Example\n",
    "scraped = scrape_dynamic_site(\"https://byjus.com/english/articles-in-english/\")\n",
    "print(scraped[:1000])\n",
    "with open(\"web_article.txt\", \"w\", encoding=\"utf-8\") as f:\n",
    "  f.write(scraped)\n"
   ]
  },
  {
   "cell_type": "code",
   "execution_count": null,
   "id": "ead2e743",
   "metadata": {},
   "outputs": [],
   "source": []
  }
 ],
 "metadata": {
  "kernelspec": {
   "display_name": "Python 3",
   "language": "python",
   "name": "python3"
  },
  "language_info": {
   "codemirror_mode": {
    "name": "ipython",
    "version": 3
   },
   "file_extension": ".py",
   "mimetype": "text/x-python",
   "name": "python",
   "nbconvert_exporter": "python",
   "pygments_lexer": "ipython3",
   "version": "3.12.5"
  }
 },
 "nbformat": 4,
 "nbformat_minor": 5
}
