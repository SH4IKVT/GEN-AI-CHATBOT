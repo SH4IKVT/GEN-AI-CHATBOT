{
 "cells": [
  {
   "cell_type": "code",
   "execution_count": 2,
   "id": "bf11116e",
   "metadata": {},
   "outputs": [
    {
     "name": "stdout",
     "output_type": "stream",
     "text": [
      "Have you ever been wondering what part of speech the articles belong to? Do you think they are pronouns, adverbs or adjectives? Well, this article will help you with all that you need to know. Learn what articles are, their definition, types, how to use them, and uses, along with examples. Also, try out the practice questions given to check how far you have understood the same. Table of Contents What is an Article? Definition of an Article Types of Articles in English Definite Article Indefinite Article Usage and Exceptions – Points to be Remembered When Using Articles Examples of Articles Check Your Understanding of Articles Frequently Asked Questions on Articles in English Grammar What is an Article? An article is a short monosyllabic word that is used to define if the noun is specific or not. Articles are normally used before nouns and since they are used to speak about the noun, they can be considered as adjectives. Look at how various dictionaries define an article to have a much \n"
     ]
    }
   ],
   "source": [
    "import requests\n",
    "from bs4 import BeautifulSoup\n",
    "import re\n",
    "\n",
    "def scrape_text_from_url(url):\n",
    "    response = requests.get(url)\n",
    "    if response.status_code != 200:\n",
    "        return \"Failed to fetch the page\"\n",
    "    \n",
    "    soup = BeautifulSoup(response.text, 'html.parser')\n",
    "\n",
    "    # Remove scripts and styles\n",
    "    for tag in soup(['script', 'style']):\n",
    "        tag.decompose()\n",
    "\n",
    "    # Extract raw text\n",
    "    text = soup.get_text()\n",
    "\n",
    "    # Clean it\n",
    "    text = re.sub(r'\\s+', ' ', text)\n",
    "    return text.strip()\n",
    "\n",
    "# Example usage\n",
    "url = \"https://byjus.com/english/articles-in-english/\"\n",
    "scraped_text = scrape_text_from_url(url)\n",
    "print(scraped_text[:1000])  \n",
    "\n"
   ]
  },
  {
   "cell_type": "code",
   "execution_count": null,
   "id": "0a1ba087",
   "metadata": {},
   "outputs": [],
   "source": []
  }
 ],
 "metadata": {
  "kernelspec": {
   "display_name": "Python 3",
   "language": "python",
   "name": "python3"
  },
  "language_info": {
   "codemirror_mode": {
    "name": "ipython",
    "version": 3
   },
   "file_extension": ".py",
   "mimetype": "text/x-python",
   "name": "python",
   "nbconvert_exporter": "python",
   "pygments_lexer": "ipython3",
   "version": "3.12.5"
  }
 },
 "nbformat": 4,
 "nbformat_minor": 5
}
